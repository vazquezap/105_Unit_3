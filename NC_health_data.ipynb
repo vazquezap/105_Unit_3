{
 "cells": [
  {
   "cell_type": "markdown",
   "id": "5912e537-f821-4069-8b2c-5f3e46bc6e0b",
   "metadata": {},
   "source": [
    "# Overview"
   ]
  },
  {
   "cell_type": "markdown",
   "id": "aaa13607-dfe9-4e02-9852-4bc15cc4d23b",
   "metadata": {},
   "source": [
    "#### The CountyHealthData_2014-2015.csv contains a wide array of data pertaining to multiple states across the nation. By the end of this procedure, we will narrow down our dataset to provide information on health data of North Carolina in order to better reflect correlations among healthcare costs, income, and uninsured individuals not getting the healthcare services they need. "
   ]
  },
  {
   "cell_type": "markdown",
   "id": "0a82c3d1-8ff0-4078-94ea-d818d5e1174e",
   "metadata": {},
   "source": [
    "#### This dataset is available to anyone, including policy makers and the general public, who are interested in issues relating to healthcare costs in North Carolina."
   ]
  },
  {
   "cell_type": "markdown",
   "id": "c3ef4987-917d-410f-96cc-1d0a41a08b78",
   "metadata": {},
   "source": [
    "# Getting Started"
   ]
  },
  {
   "cell_type": "markdown",
   "id": "e0c6d7c1-6e46-481a-a27f-72b7d1e4ed30",
   "metadata": {},
   "source": [
    "#### 1. Software Needed: Pandas "
   ]
  },
  {
   "cell_type": "markdown",
   "id": "49541a74-4054-4428-aeb6-5883e16d8f44",
   "metadata": {},
   "source": [
    "##### Importing Pandas Package:"
   ]
  },
  {
   "cell_type": "code",
   "execution_count": 1,
   "id": "dbd31b20-dfca-479a-ad27-0b9e5608576e",
   "metadata": {},
   "outputs": [],
   "source": [
    "import numpy as np"
   ]
  },
  {
   "cell_type": "code",
   "execution_count": 2,
   "id": "1f0bb90d-b73a-445a-b1e3-01de8454aec6",
   "metadata": {},
   "outputs": [],
   "source": [
    "import pandas as pd"
   ]
  },
  {
   "cell_type": "markdown",
   "id": "0ab2ffc2-3d9d-45cb-8a02-c284d6338da7",
   "metadata": {},
   "source": [
    "#### 2. Creating and Defining a Dataframe"
   ]
  },
  {
   "cell_type": "markdown",
   "id": "c51fe2ac-2767-40e8-b860-130f8913b68c",
   "metadata": {},
   "source": [
    "##### Defining CountyHealthData_2014-2015.csv as \"df\":"
   ]
  },
  {
   "cell_type": "code",
   "execution_count": 5,
   "id": "bdf505d4-1e7b-45d4-a401-266b69eea1bc",
   "metadata": {},
   "outputs": [],
   "source": [
    "df=pd.read_csv(\"CountyHealthData_2014-2015.csv\")"
   ]
  },
  {
   "cell_type": "markdown",
   "id": "d4bf5159-e1e8-4972-a865-84eafc861630",
   "metadata": {},
   "source": [
    "# Filtering Your Dataset to Focus on North Carolina"
   ]
  },
  {
   "cell_type": "markdown",
   "id": "12d61e21-b7cc-43e0-ad55-1cd236fcabaf",
   "metadata": {},
   "source": [
    "##### For this dataset, we will focus on columns relating to uninsured adults and children, unemployment, healthcare costs, median household income, and the data of those who could not see a doctor due to cost. "
   ]
  },
  {
   "cell_type": "markdown",
   "id": "71966d94-21a4-49c5-a896-9f9855d8c7fb",
   "metadata": {},
   "source": [
    "#### 1. Filtering Data"
   ]
  },
  {
   "cell_type": "markdown",
   "id": "51beafd8-ea09-476b-84f9-eeefb9e98e5a",
   "metadata": {},
   "source": [
    "##### Use the .loc function to filter data as shown here:"
   ]
  },
  {
   "cell_type": "code",
   "execution_count": 7,
   "id": "9567f5fa-0dd0-4181-88ca-98c4d26371b6",
   "metadata": {},
   "outputs": [
    {
     "data": {
      "text/html": [
       "<div>\n",
       "<style scoped>\n",
       "    .dataframe tbody tr th:only-of-type {\n",
       "        vertical-align: middle;\n",
       "    }\n",
       "\n",
       "    .dataframe tbody tr th {\n",
       "        vertical-align: top;\n",
       "    }\n",
       "\n",
       "    .dataframe thead th {\n",
       "        text-align: right;\n",
       "    }\n",
       "</style>\n",
       "<table border=\"1\" class=\"dataframe\">\n",
       "  <thead>\n",
       "    <tr style=\"text-align: right;\">\n",
       "      <th></th>\n",
       "      <th>Unemployment</th>\n",
       "      <th>Uninsured adults</th>\n",
       "      <th>Uninsured children</th>\n",
       "      <th>Health care costs</th>\n",
       "      <th>Could not see doctor due to cost</th>\n",
       "      <th>Median household income</th>\n",
       "    </tr>\n",
       "  </thead>\n",
       "  <tbody>\n",
       "    <tr>\n",
       "      <th>3245</th>\n",
       "      <td>0.101</td>\n",
       "      <td>0.240</td>\n",
       "      <td>0.077</td>\n",
       "      <td>9316.0</td>\n",
       "      <td>0.205</td>\n",
       "      <td>39655</td>\n",
       "    </tr>\n",
       "    <tr>\n",
       "      <th>3246</th>\n",
       "      <td>0.078</td>\n",
       "      <td>0.239</td>\n",
       "      <td>0.076</td>\n",
       "      <td>9242.0</td>\n",
       "      <td>0.205</td>\n",
       "      <td>46064</td>\n",
       "    </tr>\n",
       "    <tr>\n",
       "      <th>3247</th>\n",
       "      <td>0.106</td>\n",
       "      <td>0.320</td>\n",
       "      <td>0.131</td>\n",
       "      <td>9585.0</td>\n",
       "      <td>0.210</td>\n",
       "      <td>34046</td>\n",
       "    </tr>\n",
       "    <tr>\n",
       "      <th>3248</th>\n",
       "      <td>0.089</td>\n",
       "      <td>0.319</td>\n",
       "      <td>0.119</td>\n",
       "      <td>9423.0</td>\n",
       "      <td>0.210</td>\n",
       "      <td>37086</td>\n",
       "    </tr>\n",
       "    <tr>\n",
       "      <th>3249</th>\n",
       "      <td>0.119</td>\n",
       "      <td>0.218</td>\n",
       "      <td>0.063</td>\n",
       "      <td>9060.0</td>\n",
       "      <td>0.159</td>\n",
       "      <td>32339</td>\n",
       "    </tr>\n",
       "    <tr>\n",
       "      <th>...</th>\n",
       "      <td>...</td>\n",
       "      <td>...</td>\n",
       "      <td>...</td>\n",
       "      <td>...</td>\n",
       "      <td>...</td>\n",
       "      <td>...</td>\n",
       "    </tr>\n",
       "    <tr>\n",
       "      <th>3440</th>\n",
       "      <td>0.071</td>\n",
       "      <td>0.242</td>\n",
       "      <td>0.094</td>\n",
       "      <td>10998.0</td>\n",
       "      <td>0.158</td>\n",
       "      <td>40998</td>\n",
       "    </tr>\n",
       "    <tr>\n",
       "      <th>3441</th>\n",
       "      <td>0.111</td>\n",
       "      <td>0.268</td>\n",
       "      <td>0.110</td>\n",
       "      <td>7707.0</td>\n",
       "      <td>0.158</td>\n",
       "      <td>36019</td>\n",
       "    </tr>\n",
       "    <tr>\n",
       "      <th>3442</th>\n",
       "      <td>0.098</td>\n",
       "      <td>0.246</td>\n",
       "      <td>0.091</td>\n",
       "      <td>7870.0</td>\n",
       "      <td>0.158</td>\n",
       "      <td>35866</td>\n",
       "    </tr>\n",
       "    <tr>\n",
       "      <th>3443</th>\n",
       "      <td>0.027</td>\n",
       "      <td>0.151</td>\n",
       "      <td>0.093</td>\n",
       "      <td>9245.0</td>\n",
       "      <td>NaN</td>\n",
       "      <td>45829</td>\n",
       "    </tr>\n",
       "    <tr>\n",
       "      <th>3444</th>\n",
       "      <td>0.023</td>\n",
       "      <td>0.158</td>\n",
       "      <td>0.097</td>\n",
       "      <td>7616.0</td>\n",
       "      <td>NaN</td>\n",
       "      <td>44833</td>\n",
       "    </tr>\n",
       "  </tbody>\n",
       "</table>\n",
       "<p>200 rows × 6 columns</p>\n",
       "</div>"
      ],
      "text/plain": [
       "      Unemployment  Uninsured adults  Uninsured children  Health care costs  \\\n",
       "3245         0.101             0.240               0.077             9316.0   \n",
       "3246         0.078             0.239               0.076             9242.0   \n",
       "3247         0.106             0.320               0.131             9585.0   \n",
       "3248         0.089             0.319               0.119             9423.0   \n",
       "3249         0.119             0.218               0.063             9060.0   \n",
       "...            ...               ...                 ...                ...   \n",
       "3440         0.071             0.242               0.094            10998.0   \n",
       "3441         0.111             0.268               0.110             7707.0   \n",
       "3442         0.098             0.246               0.091             7870.0   \n",
       "3443         0.027             0.151               0.093             9245.0   \n",
       "3444         0.023             0.158               0.097             7616.0   \n",
       "\n",
       "      Could not see doctor due to cost  Median household income  \n",
       "3245                             0.205                    39655  \n",
       "3246                             0.205                    46064  \n",
       "3247                             0.210                    34046  \n",
       "3248                             0.210                    37086  \n",
       "3249                             0.159                    32339  \n",
       "...                                ...                      ...  \n",
       "3440                             0.158                    40998  \n",
       "3441                             0.158                    36019  \n",
       "3442                             0.158                    35866  \n",
       "3443                               NaN                    45829  \n",
       "3444                               NaN                    44833  \n",
       "\n",
       "[200 rows x 6 columns]"
      ]
     },
     "execution_count": 7,
     "metadata": {},
     "output_type": "execute_result"
    }
   ],
   "source": [
    "df.loc[3245:3444,[\"Unemployment\", \"Uninsured adults\", \"Uninsured children\", \"Health care costs\", \"Could not see doctor due to cost\", \"Median household income\"]]"
   ]
  },
  {
   "cell_type": "markdown",
   "id": "66b61d58-fcd5-49f5-b20f-37fbf9dd0101",
   "metadata": {},
   "source": [
    "#### Now that the data has been filtered, it is ready to be used for analysis. "
   ]
  }
 ],
 "metadata": {
  "kernelspec": {
   "display_name": "Python 3 (ipykernel)",
   "language": "python",
   "name": "python3"
  },
  "language_info": {
   "codemirror_mode": {
    "name": "ipython",
    "version": 3
   },
   "file_extension": ".py",
   "mimetype": "text/x-python",
   "name": "python",
   "nbconvert_exporter": "python",
   "pygments_lexer": "ipython3",
   "version": "3.9.13"
  }
 },
 "nbformat": 4,
 "nbformat_minor": 5
}
